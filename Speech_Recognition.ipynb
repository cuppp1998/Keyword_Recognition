{
 "cells": [
  {
   "cell_type": "markdown",
   "metadata": {},
   "source": [
    "#### Parameter Settings:\n",
    "\n",
    "* <b>input_video:</b> The video should be in mp4 format whose codec is H264. \n",
    "\n",
    "* <b>keyword:</b> The keyword (like \"near misses\") to recognise.\n",
    "\n",
    "* <b>time_buffer:</b> Time (second) before and after each keyword appears in the output video."
   ]
  },
  {
   "cell_type": "code",
   "execution_count": 43,
   "metadata": {},
   "outputs": [],
   "source": [
    "input_video = 'test.mp4'\n",
    "keyword='fingerprint'\n",
    "# keyword = 'near misses'\n",
    "threshold = 1 # higher threshold means stricter identification\n",
    "time_buffer = 1"
   ]
  },
  {
   "cell_type": "markdown",
   "metadata": {},
   "source": [
    "#### Extract audio (in WAV format) from the video:"
   ]
  },
  {
   "cell_type": "code",
   "execution_count": 44,
   "metadata": {},
   "outputs": [
    {
     "name": "stdout",
     "output_type": "stream",
     "text": [
      "MoviePy - Writing audio in test1.wav\n"
     ]
    },
    {
     "name": "stderr",
     "output_type": "stream",
     "text": [
      "                                                                        "
     ]
    },
    {
     "name": "stdout",
     "output_type": "stream",
     "text": [
      "MoviePy - Done.\n"
     ]
    },
    {
     "name": "stderr",
     "output_type": "stream",
     "text": [
      "\r"
     ]
    }
   ],
   "source": [
    "from moviepy.editor import AudioFileClip\n",
    "\n",
    "my_audio_clip = AudioFileClip(input_video)\n",
    "# save the audio as a wav. file\n",
    "my_audio_clip.write_audiofile(\"test1.wav\")"
   ]
  },
  {
   "cell_type": "markdown",
   "metadata": {},
   "source": [
    "#### Recognise the keyword using speech_recognition package:"
   ]
  },
  {
   "cell_type": "code",
   "execution_count": 45,
   "metadata": {},
   "outputs": [
    {
     "name": "stdout",
     "output_type": "stream",
     "text": [
      "fingerprint  from 454.09 s to 454.58 s\n",
      "fingerprint  from 219.89 s to 220.31 s\n",
      "fingerprint  from 204.04 s to 204.41 s\n",
      "fingerprint  from 199.1 s to 199.64 s\n"
     ]
    }
   ],
   "source": [
    "import speech_recognition as sr\n",
    "\n",
    "# a list used to store the timestamps when the keyword starts and ends\n",
    "timestamp=[]\n",
    "\n",
    "# use the audio file as the audio source\n",
    "r = sr.Recognizer()\n",
    "# with my_audio_clip as source:\n",
    "with sr.AudioFile(\"test1.wav\") as source:\n",
    "    audio = r.record(source)\n",
    "    \n",
    "# recognize speech using Sphinx\n",
    "try:\n",
    "    decoder = r.recognize_sphinx(audio,show_all=True, keyword_entries=[(keyword, threshold)])\n",
    "    # for each detected keyword, print its start and end frame\n",
    "    for seg in decoder.seg():\n",
    "        timestamp.append((seg.start_frame/100,seg.end_frame/100))\n",
    "        print(seg.word,'from',seg.start_frame/100,'s', 'to', seg.end_frame/100,'s')\n",
    "\n",
    "except sr.UnknownValueError:\n",
    "    print(\"Sphinx could not understand audio\")\n",
    "except sr.RequestError as e:\n",
    "    print(\"Sphinx error; {0}\".format(e))"
   ]
  },
  {
   "cell_type": "markdown",
   "metadata": {},
   "source": [
    "#### Trim the clips which contain the keywords and output them in mp4 format:"
   ]
  },
  {
   "cell_type": "code",
   "execution_count": 42,
   "metadata": {},
   "outputs": [
    {
     "name": "stdout",
     "output_type": "stream",
     "text": [
      "Moviepy - Building video output.mp4.\n",
      "MoviePy - Writing audio in outputTEMP_MPY_wvf_snd.mp4\n"
     ]
    },
    {
     "name": "stderr",
     "output_type": "stream",
     "text": [
      "                                                                 \r"
     ]
    },
    {
     "name": "stdout",
     "output_type": "stream",
     "text": [
      "MoviePy - Done.\n",
      "Moviepy - Writing video output.mp4\n",
      "\n"
     ]
    },
    {
     "name": "stderr",
     "output_type": "stream",
     "text": [
      "                                                            "
     ]
    },
    {
     "name": "stdout",
     "output_type": "stream",
     "text": [
      "Moviepy - Done !\n",
      "Moviepy - video ready output.mp4\n"
     ]
    },
    {
     "name": "stderr",
     "output_type": "stream",
     "text": [
      "\r"
     ]
    }
   ],
   "source": [
    "from moviepy.editor import *\n",
    "\n",
    "if timestamp!=[]:\n",
    "    final_clip=VideoFileClip(input_video).subclip(0,0) \n",
    "    for time in reversed(timestamp):\n",
    "        clip_new=VideoFileClip(input_video).subclip(time[0]-time_buffer,time[1]+time_buffer) \n",
    "        final_clip = concatenate_videoclips([final_clip,clip_new])\n",
    "\n",
    "final_clip.write_videofile(\"output.mp4\",audio_codec=\"aac\")\n"
   ]
  }
 ],
 "metadata": {
  "interpreter": {
   "hash": "c73bece73c1eb02eb646ab39347deb735310d03b2590026faafa191ec3adf02c"
  },
  "kernelspec": {
   "display_name": "Python 3.9.13 ('detectron')",
   "language": "python",
   "name": "python3"
  },
  "language_info": {
   "codemirror_mode": {
    "name": "ipython",
    "version": 3
   },
   "file_extension": ".py",
   "mimetype": "text/x-python",
   "name": "python",
   "nbconvert_exporter": "python",
   "pygments_lexer": "ipython3",
   "version": "3.9.13"
  },
  "orig_nbformat": 4
 },
 "nbformat": 4,
 "nbformat_minor": 2
}
